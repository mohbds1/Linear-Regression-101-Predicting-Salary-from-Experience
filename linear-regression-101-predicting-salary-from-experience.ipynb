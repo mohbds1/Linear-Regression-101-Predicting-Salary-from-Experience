{
 "cells": [
  {
   "cell_type": "markdown",
   "id": "92735333",
   "metadata": {
    "papermill": {
     "duration": 0.004549,
     "end_time": "2025-08-27T18:23:26.665651",
     "exception": false,
     "start_time": "2025-08-27T18:23:26.661102",
     "status": "completed"
    },
    "tags": []
   },
   "source": [
    "# 🎯 Linear Regression 101 — Predicting Salary from Experience  \n",
    "\n",
    "**Dataset:** Salary dataset (Years of Experience → Salary)   \n",
    "**Tags:** `Linear Regression`, `Beginner`, `Machine Learning`, `Scikit-learn`, `EDA`  \n",
    "\n",
    "---\n"
   ]
  },
  {
   "cell_type": "markdown",
   "id": "ba72e76f",
   "metadata": {
    "papermill": {
     "duration": 0.003358,
     "end_time": "2025-08-27T18:23:26.672802",
     "exception": false,
     "start_time": "2025-08-27T18:23:26.669444",
     "status": "completed"
    },
    "tags": []
   },
   "source": [
    "# Introduction to Linear Regression  \n",
    "\n",
    "Welcome, Kagglers! 👋  \n",
    "\n",
    "Linear Regression is one of the most **fundamental algorithms** in both statistics and machine learning. It helps us model the relationship between a **dependent variable (target)** and one or more **independent variables (features)**.  \n",
    "\n",
    "👉 Our Goal: Predict **Salary** 💰 based on an employee’s **Years of Experience** 📅.  \n",
    "\n",
    "📌 **Real-world examples:**  \n",
    "- Predicting **house prices** 🏡 from size and age  \n",
    "- Estimating **sales** 📈 based on ad spending  \n",
    "- Forecasting **energy usage** ⚡ from weather data  "
   ]
  },
  {
   "cell_type": "markdown",
   "id": "2ce06c2d",
   "metadata": {
    "papermill": {
     "duration": 0.003298,
     "end_time": "2025-08-27T18:23:26.679756",
     "exception": false,
     "start_time": "2025-08-27T18:23:26.676458",
     "status": "completed"
    },
    "tags": []
   },
   "source": [
    "# The Mathematics Behind Linear Regression  \n",
    "\n",
    "- **Simple Linear Regression (1 feature):**  \n",
    "\\[\n",
    "y = \\beta_0 + \\beta_1 x + \\epsilon\n",
    "\\]  \n",
    "\n",
    "Where:  \n",
    "- \\( y \\) → target (Salary)  \n",
    "- \\( x \\) → feature (Years of Experience)  \n",
    "- \\( \\beta_0 \\) → intercept (salary when experience = 0)  \n",
    "- \\( \\beta_1 \\) → slope (how much salary increases per year)  \n",
    "- \\( \\epsilon \\) → error (random noise)  \n",
    "\n",
    "📉 The model learns by minimizing the **Mean Squared Error (MSE):**  \n",
    "\\[\n",
    "MSE = \\frac{1}{N}\\sum (y_i - \\hat{y}_i)^2\n",
    "\\]  \n",
    "\n",
    "\n"
   ]
  },
  {
   "cell_type": "markdown",
   "id": "4c320bcb",
   "metadata": {
    "papermill": {
     "duration": 0.00333,
     "end_time": "2025-08-27T18:23:26.686575",
     "exception": false,
     "start_time": "2025-08-27T18:23:26.683245",
     "status": "completed"
    },
    "tags": []
   },
   "source": [
    "# Coming Up: Hands-On Example\n",
    "We'll now build a simple linear regression model to:\n",
    "\n",
    "Predict **Salary** 💰 based on an employee’s **Years of Experience** 📅"
   ]
  },
  {
   "cell_type": "markdown",
   "id": "07cfc64f",
   "metadata": {
    "papermill": {
     "duration": 0.003367,
     "end_time": "2025-08-27T18:23:26.693412",
     "exception": false,
     "start_time": "2025-08-27T18:23:26.690045",
     "status": "completed"
    },
    "tags": []
   },
   "source": [
    "## 📦 Import Libraries"
   ]
  },
  {
   "cell_type": "code",
   "execution_count": 1,
   "id": "860e5f21",
   "metadata": {
    "execution": {
     "iopub.execute_input": "2025-08-27T18:23:26.701799Z",
     "iopub.status.busy": "2025-08-27T18:23:26.701483Z",
     "iopub.status.idle": "2025-08-27T18:23:30.544377Z",
     "shell.execute_reply": "2025-08-27T18:23:30.543415Z"
    },
    "papermill": {
     "duration": 3.849191,
     "end_time": "2025-08-27T18:23:30.546125",
     "exception": false,
     "start_time": "2025-08-27T18:23:26.696934",
     "status": "completed"
    },
    "tags": []
   },
   "outputs": [],
   "source": [
    "\n",
    "import pandas as pd\n",
    "import matplotlib.pyplot as plt\n",
    "import seaborn as sns\n",
    "\n",
    "# ML\n",
    "from sklearn.model_selection import train_test_split\n",
    "from sklearn.linear_model import LinearRegression\n",
    "from sklearn.metrics import mean_squared_error, mean_absolute_error, r2_score\n",
    "import numpy as np\n",
    "\n",
    "# Styling\n",
    "sns.set(style=\"whitegrid\")\n"
   ]
  },
  {
   "cell_type": "markdown",
   "id": "a2f123bc",
   "metadata": {
    "papermill": {
     "duration": 0.00464,
     "end_time": "2025-08-27T18:23:30.554693",
     "exception": false,
     "start_time": "2025-08-27T18:23:30.550053",
     "status": "completed"
    },
    "tags": []
   },
   "source": [
    "## 📂 Load Dataset"
   ]
  },
  {
   "cell_type": "code",
   "execution_count": 2,
   "id": "5b9dab44",
   "metadata": {
    "execution": {
     "iopub.execute_input": "2025-08-27T18:23:30.563760Z",
     "iopub.status.busy": "2025-08-27T18:23:30.563284Z",
     "iopub.status.idle": "2025-08-27T18:23:30.622734Z",
     "shell.execute_reply": "2025-08-27T18:23:30.621810Z"
    },
    "papermill": {
     "duration": 0.065768,
     "end_time": "2025-08-27T18:23:30.624254",
     "exception": false,
     "start_time": "2025-08-27T18:23:30.558486",
     "status": "completed"
    },
    "tags": []
   },
   "outputs": [
    {
     "data": {
      "text/html": [
       "<div>\n",
       "<style scoped>\n",
       "    .dataframe tbody tr th:only-of-type {\n",
       "        vertical-align: middle;\n",
       "    }\n",
       "\n",
       "    .dataframe tbody tr th {\n",
       "        vertical-align: top;\n",
       "    }\n",
       "\n",
       "    .dataframe thead th {\n",
       "        text-align: right;\n",
       "    }\n",
       "</style>\n",
       "<table border=\"1\" class=\"dataframe\">\n",
       "  <thead>\n",
       "    <tr style=\"text-align: right;\">\n",
       "      <th></th>\n",
       "      <th>YearsExperience</th>\n",
       "      <th>Salary</th>\n",
       "    </tr>\n",
       "  </thead>\n",
       "  <tbody>\n",
       "    <tr>\n",
       "      <th>0</th>\n",
       "      <td>1.2</td>\n",
       "      <td>39344.0</td>\n",
       "    </tr>\n",
       "    <tr>\n",
       "      <th>1</th>\n",
       "      <td>1.4</td>\n",
       "      <td>46206.0</td>\n",
       "    </tr>\n",
       "    <tr>\n",
       "      <th>2</th>\n",
       "      <td>1.6</td>\n",
       "      <td>37732.0</td>\n",
       "    </tr>\n",
       "    <tr>\n",
       "      <th>3</th>\n",
       "      <td>2.1</td>\n",
       "      <td>43526.0</td>\n",
       "    </tr>\n",
       "    <tr>\n",
       "      <th>4</th>\n",
       "      <td>2.3</td>\n",
       "      <td>39892.0</td>\n",
       "    </tr>\n",
       "  </tbody>\n",
       "</table>\n",
       "</div>"
      ],
      "text/plain": [
       "   YearsExperience   Salary\n",
       "0              1.2  39344.0\n",
       "1              1.4  46206.0\n",
       "2              1.6  37732.0\n",
       "3              2.1  43526.0\n",
       "4              2.3  39892.0"
      ]
     },
     "execution_count": 2,
     "metadata": {},
     "output_type": "execute_result"
    }
   ],
   "source": [
    "df = pd.read_csv(\"/kaggle/input/salary-dataset-simple-linear-regression/Salary_dataset.csv\")\n",
    "\n",
    "# Drop unnecessary columns (if exist)\n",
    "df = df.drop(columns=[\"Unnamed: 0\"], errors=\"ignore\")\n",
    "\n",
    "# Preview dataset\n",
    "df.head()\n"
   ]
  },
  {
   "cell_type": "markdown",
   "id": "e291acd6",
   "metadata": {
    "papermill": {
     "duration": 0.003539,
     "end_time": "2025-08-27T18:23:30.632030",
     "exception": false,
     "start_time": "2025-08-27T18:23:30.628491",
     "status": "completed"
    },
    "tags": []
   },
   "source": [
    "## Dataset Info"
   ]
  },
  {
   "cell_type": "code",
   "execution_count": 3,
   "id": "96a19e22",
   "metadata": {
    "execution": {
     "iopub.execute_input": "2025-08-27T18:23:30.641042Z",
     "iopub.status.busy": "2025-08-27T18:23:30.640728Z",
     "iopub.status.idle": "2025-08-27T18:23:30.674936Z",
     "shell.execute_reply": "2025-08-27T18:23:30.673851Z"
    },
    "papermill": {
     "duration": 0.041796,
     "end_time": "2025-08-27T18:23:30.677624",
     "exception": false,
     "start_time": "2025-08-27T18:23:30.635828",
     "status": "completed"
    },
    "tags": []
   },
   "outputs": [
    {
     "name": "stdout",
     "output_type": "stream",
     "text": [
      "Dataset Shape: (30, 2)\n",
      "\n",
      "Info:\n",
      "<class 'pandas.core.frame.DataFrame'>\n",
      "RangeIndex: 30 entries, 0 to 29\n",
      "Data columns (total 2 columns):\n",
      " #   Column           Non-Null Count  Dtype  \n",
      "---  ------           --------------  -----  \n",
      " 0   YearsExperience  30 non-null     float64\n",
      " 1   Salary           30 non-null     float64\n",
      "dtypes: float64(2)\n",
      "memory usage: 612.0 bytes\n",
      "\n",
      "Summary Statistics:\n"
     ]
    },
    {
     "data": {
      "text/html": [
       "<div>\n",
       "<style scoped>\n",
       "    .dataframe tbody tr th:only-of-type {\n",
       "        vertical-align: middle;\n",
       "    }\n",
       "\n",
       "    .dataframe tbody tr th {\n",
       "        vertical-align: top;\n",
       "    }\n",
       "\n",
       "    .dataframe thead th {\n",
       "        text-align: right;\n",
       "    }\n",
       "</style>\n",
       "<table border=\"1\" class=\"dataframe\">\n",
       "  <thead>\n",
       "    <tr style=\"text-align: right;\">\n",
       "      <th></th>\n",
       "      <th>YearsExperience</th>\n",
       "      <th>Salary</th>\n",
       "    </tr>\n",
       "  </thead>\n",
       "  <tbody>\n",
       "    <tr>\n",
       "      <th>count</th>\n",
       "      <td>30.000000</td>\n",
       "      <td>30.000000</td>\n",
       "    </tr>\n",
       "    <tr>\n",
       "      <th>mean</th>\n",
       "      <td>5.413333</td>\n",
       "      <td>76004.000000</td>\n",
       "    </tr>\n",
       "    <tr>\n",
       "      <th>std</th>\n",
       "      <td>2.837888</td>\n",
       "      <td>27414.429785</td>\n",
       "    </tr>\n",
       "    <tr>\n",
       "      <th>min</th>\n",
       "      <td>1.200000</td>\n",
       "      <td>37732.000000</td>\n",
       "    </tr>\n",
       "    <tr>\n",
       "      <th>25%</th>\n",
       "      <td>3.300000</td>\n",
       "      <td>56721.750000</td>\n",
       "    </tr>\n",
       "    <tr>\n",
       "      <th>50%</th>\n",
       "      <td>4.800000</td>\n",
       "      <td>65238.000000</td>\n",
       "    </tr>\n",
       "    <tr>\n",
       "      <th>75%</th>\n",
       "      <td>7.800000</td>\n",
       "      <td>100545.750000</td>\n",
       "    </tr>\n",
       "    <tr>\n",
       "      <th>max</th>\n",
       "      <td>10.600000</td>\n",
       "      <td>122392.000000</td>\n",
       "    </tr>\n",
       "  </tbody>\n",
       "</table>\n",
       "</div>"
      ],
      "text/plain": [
       "       YearsExperience         Salary\n",
       "count        30.000000      30.000000\n",
       "mean          5.413333   76004.000000\n",
       "std           2.837888   27414.429785\n",
       "min           1.200000   37732.000000\n",
       "25%           3.300000   56721.750000\n",
       "50%           4.800000   65238.000000\n",
       "75%           7.800000  100545.750000\n",
       "max          10.600000  122392.000000"
      ]
     },
     "execution_count": 3,
     "metadata": {},
     "output_type": "execute_result"
    }
   ],
   "source": [
    "print(\"Dataset Shape:\", df.shape)\n",
    "print(\"\\nInfo:\")\n",
    "df.info()\n",
    "\n",
    "print(\"\\nSummary Statistics:\")\n",
    "df.describe()\n"
   ]
  },
  {
   "cell_type": "markdown",
   "id": "cc935230",
   "metadata": {
    "papermill": {
     "duration": 0.004183,
     "end_time": "2025-08-27T18:23:30.686189",
     "exception": false,
     "start_time": "2025-08-27T18:23:30.682006",
     "status": "completed"
    },
    "tags": []
   },
   "source": [
    "## 📈 Exploratory Data Analysis (EDA)  \n",
    "\n",
    "Let's visualize the relationship between **Years of Experience** and **Salary**.\n"
   ]
  },
  {
   "cell_type": "code",
   "execution_count": 4,
   "id": "0c5a53ab",
   "metadata": {
    "execution": {
     "iopub.execute_input": "2025-08-27T18:23:30.695711Z",
     "iopub.status.busy": "2025-08-27T18:23:30.695361Z",
     "iopub.status.idle": "2025-08-27T18:23:31.037849Z",
     "shell.execute_reply": "2025-08-27T18:23:31.036930Z"
    },
    "papermill": {
     "duration": 0.349088,
     "end_time": "2025-08-27T18:23:31.039365",
     "exception": false,
     "start_time": "2025-08-27T18:23:30.690277",
     "status": "completed"
    },
    "tags": []
   },
   "outputs": [
    {
     "data": {
      "image/png": "[encoded data removed]",
      "text/plain": [
       "<Figure size 600x400 with 1 Axes>"
      ]
     },
     "metadata": {},
     "output_type": "display_data"
    }
   ],
   "source": [
    "# Scatter plot\n",
    "plt.figure(figsize=(6,4))\n",
    "sns.scatterplot(x=\"YearsExperience\", y=\"Salary\", data=df, s=80, color=\"blue\")\n",
    "plt.title(\"Salary vs Years of Experience\")\n",
    "plt.show()"
   ]
  },
  {
   "cell_type": "code",
   "execution_count": 5,
   "id": "f16f6c7c",
   "metadata": {
    "execution": {
     "iopub.execute_input": "2025-08-27T18:23:31.050579Z",
     "iopub.status.busy": "2025-08-27T18:23:31.050255Z",
     "iopub.status.idle": "2025-08-27T18:23:31.060425Z",
     "shell.execute_reply": "2025-08-27T18:23:31.059515Z"
    },
    "papermill": {
     "duration": 0.017234,
     "end_time": "2025-08-27T18:23:31.061824",
     "exception": false,
     "start_time": "2025-08-27T18:23:31.044590",
     "status": "completed"
    },
    "tags": []
   },
   "outputs": [
    {
     "data": {
      "text/html": [
       "<div>\n",
       "<style scoped>\n",
       "    .dataframe tbody tr th:only-of-type {\n",
       "        vertical-align: middle;\n",
       "    }\n",
       "\n",
       "    .dataframe tbody tr th {\n",
       "        vertical-align: top;\n",
       "    }\n",
       "\n",
       "    .dataframe thead th {\n",
       "        text-align: right;\n",
       "    }\n",
       "</style>\n",
       "<table border=\"1\" class=\"dataframe\">\n",
       "  <thead>\n",
       "    <tr style=\"text-align: right;\">\n",
       "      <th></th>\n",
       "      <th>YearsExperience</th>\n",
       "      <th>Salary</th>\n",
       "    </tr>\n",
       "  </thead>\n",
       "  <tbody>\n",
       "    <tr>\n",
       "      <th>YearsExperience</th>\n",
       "      <td>1.000000</td>\n",
       "      <td>0.978242</td>\n",
       "    </tr>\n",
       "    <tr>\n",
       "      <th>Salary</th>\n",
       "      <td>0.978242</td>\n",
       "      <td>1.000000</td>\n",
       "    </tr>\n",
       "  </tbody>\n",
       "</table>\n",
       "</div>"
      ],
      "text/plain": [
       "                 YearsExperience    Salary\n",
       "YearsExperience         1.000000  0.978242\n",
       "Salary                  0.978242  1.000000"
      ]
     },
     "execution_count": 5,
     "metadata": {},
     "output_type": "execute_result"
    }
   ],
   "source": [
    "# Correlation\n",
    "df.corr()"
   ]
  },
  {
   "cell_type": "markdown",
   "id": "73f59353",
   "metadata": {
    "papermill": {
     "duration": 0.00487,
     "end_time": "2025-08-27T18:23:31.071958",
     "exception": false,
     "start_time": "2025-08-27T18:23:31.067088",
     "status": "completed"
    },
    "tags": []
   },
   "source": [
    "## 🧹 Data Preparation  \n",
    "\n",
    "Now we prepare the features (X) and target (y) and split the dataset into **training** and **testing** sets.\n"
   ]
  },
  {
   "cell_type": "code",
   "execution_count": 6,
   "id": "da83ad5a",
   "metadata": {
    "execution": {
     "iopub.execute_input": "2025-08-27T18:23:31.083422Z",
     "iopub.status.busy": "2025-08-27T18:23:31.082649Z",
     "iopub.status.idle": "2025-08-27T18:23:31.092099Z",
     "shell.execute_reply": "2025-08-27T18:23:31.091304Z"
    },
    "papermill": {
     "duration": 0.016645,
     "end_time": "2025-08-27T18:23:31.093540",
     "exception": false,
     "start_time": "2025-08-27T18:23:31.076895",
     "status": "completed"
    },
    "tags": []
   },
   "outputs": [
    {
     "data": {
      "text/plain": [
       "((24, 1), (6, 1))"
      ]
     },
     "execution_count": 6,
     "metadata": {},
     "output_type": "execute_result"
    }
   ],
   "source": [
    "# Features (X) and target (y)\n",
    "X = df[[\"YearsExperience\"]]\n",
    "y = df[\"Salary\"]\n",
    "\n",
    "# Train-test split\n",
    "X_train, X_test, y_train, y_test = train_test_split(\n",
    "    X, y, test_size=0.2, random_state=42\n",
    ")\n",
    "\n",
    "X_train.shape, X_test.shape"
   ]
  },
  {
   "cell_type": "markdown",
   "id": "30597f6b",
   "metadata": {
    "papermill": {
     "duration": 0.004916,
     "end_time": "2025-08-27T18:23:31.103811",
     "exception": false,
     "start_time": "2025-08-27T18:23:31.098895",
     "status": "completed"
    },
    "tags": []
   },
   "source": [
    "## ⚙️ Building & Training the Model  \n"
   ]
  },
  {
   "cell_type": "code",
   "execution_count": 7,
   "id": "5e94bc87",
   "metadata": {
    "execution": {
     "iopub.execute_input": "2025-08-27T18:23:31.115097Z",
     "iopub.status.busy": "2025-08-27T18:23:31.114770Z",
     "iopub.status.idle": "2025-08-27T18:23:31.142143Z",
     "shell.execute_reply": "2025-08-27T18:23:31.141076Z"
    },
    "papermill": {
     "duration": 0.034971,
     "end_time": "2025-08-27T18:23:31.143788",
     "exception": false,
     "start_time": "2025-08-27T18:23:31.108817",
     "status": "completed"
    },
    "tags": []
   },
   "outputs": [
    {
     "name": "stdout",
     "output_type": "stream",
     "text": [
      "Intercept (β₀): 24380.201479473704\n",
      "Coefficient (β₁): 9423.815323030976\n",
      "\n",
      "👉 Interpretation: For every additional year of experience, the salary increases by about $9423.82. The baseline salary (0 years of experience) is about $24380.20.\n"
     ]
    }
   ],
   "source": [
    "# Train model\n",
    "model = LinearRegression()\n",
    "model.fit(X_train, y_train)\n",
    "\n",
    "# Model parameters\n",
    "print(\"Intercept (β₀):\", model.intercept_)\n",
    "print(\"Coefficient (β₁):\", model.coef_[0])\n",
    "\n",
    "# Interpretation\n",
    "print(f\"\\n👉 Interpretation: For every additional year of experience, \"\n",
    "      f\"the salary increases by about ${model.coef_[0]:.2f}. \"\n",
    "      f\"The baseline salary (0 years of experience) is about ${model.intercept_:.2f}.\")\n"
   ]
  },
  {
   "cell_type": "markdown",
   "id": "b0e799c9",
   "metadata": {
    "papermill": {
     "duration": 0.005081,
     "end_time": "2025-08-27T18:23:31.154273",
     "exception": false,
     "start_time": "2025-08-27T18:23:31.149192",
     "status": "completed"
    },
    "tags": []
   },
   "source": [
    "## 📊 Predictions & Results  "
   ]
  },
  {
   "cell_type": "code",
   "execution_count": 8,
   "id": "26e4b277",
   "metadata": {
    "execution": {
     "iopub.execute_input": "2025-08-27T18:23:31.165826Z",
     "iopub.status.busy": "2025-08-27T18:23:31.165508Z",
     "iopub.status.idle": "2025-08-27T18:23:31.177221Z",
     "shell.execute_reply": "2025-08-27T18:23:31.176475Z"
    },
    "papermill": {
     "duration": 0.019021,
     "end_time": "2025-08-27T18:23:31.178539",
     "exception": false,
     "start_time": "2025-08-27T18:23:31.159518",
     "status": "completed"
    },
    "tags": []
   },
   "outputs": [
    {
     "data": {
      "text/html": [
       "<div>\n",
       "<style scoped>\n",
       "    .dataframe tbody tr th:only-of-type {\n",
       "        vertical-align: middle;\n",
       "    }\n",
       "\n",
       "    .dataframe tbody tr th {\n",
       "        vertical-align: top;\n",
       "    }\n",
       "\n",
       "    .dataframe thead th {\n",
       "        text-align: right;\n",
       "    }\n",
       "</style>\n",
       "<table border=\"1\" class=\"dataframe\">\n",
       "  <thead>\n",
       "    <tr style=\"text-align: right;\">\n",
       "      <th></th>\n",
       "      <th>Actual</th>\n",
       "      <th>Predicted</th>\n",
       "      <th>Difference</th>\n",
       "    </tr>\n",
       "  </thead>\n",
       "  <tbody>\n",
       "    <tr>\n",
       "      <th>0</th>\n",
       "      <td>112636.0</td>\n",
       "      <td>115791.210113</td>\n",
       "      <td>-3155.210113</td>\n",
       "    </tr>\n",
       "    <tr>\n",
       "      <th>1</th>\n",
       "      <td>67939.0</td>\n",
       "      <td>71499.278095</td>\n",
       "      <td>-3560.278095</td>\n",
       "    </tr>\n",
       "    <tr>\n",
       "      <th>2</th>\n",
       "      <td>113813.0</td>\n",
       "      <td>102597.868661</td>\n",
       "      <td>11215.131339</td>\n",
       "    </tr>\n",
       "    <tr>\n",
       "      <th>3</th>\n",
       "      <td>83089.0</td>\n",
       "      <td>75268.804224</td>\n",
       "      <td>7820.195776</td>\n",
       "    </tr>\n",
       "    <tr>\n",
       "      <th>4</th>\n",
       "      <td>64446.0</td>\n",
       "      <td>55478.792045</td>\n",
       "      <td>8967.207955</td>\n",
       "    </tr>\n",
       "    <tr>\n",
       "      <th>5</th>\n",
       "      <td>57190.0</td>\n",
       "      <td>60190.699707</td>\n",
       "      <td>-3000.699707</td>\n",
       "    </tr>\n",
       "  </tbody>\n",
       "</table>\n",
       "</div>"
      ],
      "text/plain": [
       "     Actual      Predicted    Difference\n",
       "0  112636.0  115791.210113  -3155.210113\n",
       "1   67939.0   71499.278095  -3560.278095\n",
       "2  113813.0  102597.868661  11215.131339\n",
       "3   83089.0   75268.804224   7820.195776\n",
       "4   64446.0   55478.792045   8967.207955\n",
       "5   57190.0   60190.699707  -3000.699707"
      ]
     },
     "execution_count": 8,
     "metadata": {},
     "output_type": "execute_result"
    }
   ],
   "source": [
    "# Predict on test set\n",
    "y_pred = model.predict(X_test)\n",
    "\n",
    "# Compare actual vs predicted\n",
    "results = pd.DataFrame({\n",
    "    \"Actual\": y_test.values,\n",
    "    \"Predicted\": y_pred,\n",
    "    \"Difference\": y_test.values - y_pred\n",
    "})\n",
    "results.head(10)\n"
   ]
  },
  {
   "cell_type": "markdown",
   "id": "ea30c992",
   "metadata": {
    "papermill": {
     "duration": 0.005064,
     "end_time": "2025-08-27T18:23:31.189195",
     "exception": false,
     "start_time": "2025-08-27T18:23:31.184131",
     "status": "completed"
    },
    "tags": []
   },
   "source": [
    "## 📏 Evaluating Model Performance  \n"
   ]
  },
  {
   "cell_type": "code",
   "execution_count": 9,
   "id": "e2cd3150",
   "metadata": {
    "execution": {
     "iopub.execute_input": "2025-08-27T18:23:31.201086Z",
     "iopub.status.busy": "2025-08-27T18:23:31.200775Z",
     "iopub.status.idle": "2025-08-27T18:23:31.209725Z",
     "shell.execute_reply": "2025-08-27T18:23:31.208719Z"
    },
    "papermill": {
     "duration": 0.016522,
     "end_time": "2025-08-27T18:23:31.211084",
     "exception": false,
     "start_time": "2025-08-27T18:23:31.194562",
     "status": "completed"
    },
    "tags": []
   },
   "outputs": [
    {
     "name": "stdout",
     "output_type": "stream",
     "text": [
      "Model Performance:\n",
      "MAE: $6286.45\n",
      "MSE: 49830096.86\n",
      "RMSE: $7059.04\n",
      "R² Score: 0.9024\n"
     ]
    }
   ],
   "source": [
    "# Calculate metrics\n",
    "mse = mean_squared_error(y_test, y_pred)\n",
    "rmse = np.sqrt(mse)\n",
    "mae = mean_absolute_error(y_test, y_pred)\n",
    "r2 = r2_score(y_test, y_pred)\n",
    "\n",
    "print(\"Model Performance:\")\n",
    "print(f\"MAE: ${mae:.2f}\")\n",
    "print(f\"MSE: {mse:.2f}\")\n",
    "print(f\"RMSE: ${rmse:.2f}\")\n",
    "print(f\"R² Score: {r2:.4f}\")\n"
   ]
  },
  {
   "cell_type": "markdown",
   "id": "f50268b9",
   "metadata": {
    "papermill": {
     "duration": 0.006236,
     "end_time": "2025-08-27T18:23:31.223011",
     "exception": false,
     "start_time": "2025-08-27T18:23:31.216775",
     "status": "completed"
    },
    "tags": []
   },
   "source": [
    "## Visualization"
   ]
  },
  {
   "cell_type": "code",
   "execution_count": 10,
   "id": "71b25597",
   "metadata": {
    "execution": {
     "iopub.execute_input": "2025-08-27T18:23:31.235614Z",
     "iopub.status.busy": "2025-08-27T18:23:31.234937Z",
     "iopub.status.idle": "2025-08-27T18:23:31.465832Z",
     "shell.execute_reply": "2025-08-27T18:23:31.465028Z"
    },
    "papermill": {
     "duration": 0.239087,
     "end_time": "2025-08-27T18:23:31.467530",
     "exception": false,
     "start_time": "2025-08-27T18:23:31.228443",
     "status": "completed"
    },
    "tags": []
   },
   "outputs": [
    {
     "data": {
      "image/png": "[encoded data removed]",
      "text/plain": [
       "<Figure size 600x400 with 1 Axes>"
      ]
     },
     "metadata": {},
     "output_type": "display_data"
    }
   ],
   "source": [
    "# Actual vs Predicted\n",
    "plt.figure(figsize=(6,4))\n",
    "plt.scatter(y_test, y_pred, alpha=0.7, color=\"green\")\n",
    "plt.plot([y_test.min(), y_test.max()], [y_test.min(), y_test.max()], \"r--\")\n",
    "plt.xlabel(\"Actual Salary\")\n",
    "plt.ylabel(\"Predicted Salary\")\n",
    "plt.title(\"Actual vs Predicted Salary\")\n",
    "plt.show()"
   ]
  },
  {
   "cell_type": "markdown",
   "id": "b9ba3e13",
   "metadata": {
    "papermill": {
     "duration": 0.005871,
     "end_time": "2025-08-27T18:23:31.480183",
     "exception": false,
     "start_time": "2025-08-27T18:23:31.474312",
     "status": "completed"
    },
    "tags": []
   },
   "source": [
    "# 📌 Best Practices & Assumptions  \n",
    "\n",
    "Linear Regression assumes:\n",
    "\n",
    "1. **Linearity** → relationship between X & y is linear  \n",
    "2. **Independence** → data points are independent  \n",
    "3. **Homoscedasticity** → errors have constant variance  \n",
    "4. **Normality** → errors follow a normal distribution  \n",
    "\n",
    "👉 For simple regression (1 feature), multicollinearity is not a concern.  \n"
   ]
  },
  {
   "cell_type": "markdown",
   "id": "6c2534d3",
   "metadata": {
    "papermill": {
     "duration": 0.005848,
     "end_time": "2025-08-27T18:23:31.492103",
     "exception": false,
     "start_time": "2025-08-27T18:23:31.486255",
     "status": "completed"
    },
    "tags": []
   },
   "source": [
    "# 🏆 Your Challenge  \n",
    "\n",
    "Try extending this project:\n",
    "\n",
    "* Add more features (e.g., `Education Level`, `Job Title`)  \n",
    "* Test different datasets (e.g., California Housing 🏡)  \n",
    "* Try **Polynomial Regression** if the trend looks non-linear  \n"
   ]
  },
  {
   "cell_type": "markdown",
   "id": "7fb8429e",
   "metadata": {
    "papermill": {
     "duration": 0.005793,
     "end_time": "2025-08-27T18:23:31.504053",
     "exception": false,
     "start_time": "2025-08-27T18:23:31.498260",
     "status": "completed"
    },
    "tags": []
   },
   "source": [
    "# 🎯 Conclusion  \n",
    "\n",
    "In this notebook, we:  \n",
    "✔️ Explored a Salary dataset  \n",
    "✔️ Built a **Simple Linear Regression** model  \n",
    "✔️ Evaluated it with MAE, RMSE, and R²  \n",
    "✔️ Visualized predictions & residuals  \n",
    "\n",
    "👉 **Interpretation:** Every extra year of experience increases salary by roughly **β₁ dollars**. The intercept β₀ gives the baseline salary at 0 years of experience.  \n",
    "\n",
    "⚠️ Note: This dataset is very small (**30 rows**) — perfect for learning, but too small for real-world applications.  \n",
    "\n",
    "Linear Regression is a great starting point and the **foundation for advanced models** like Ridge, Lasso, and even Neural Networks.  \n",
    "\n",
    "🚀 Next: Try **Regularization**, **Polynomial Regression**, or compare with Decision Trees & Random Forests.  \n",
    "\n",
    "Happy Modeling! 🌟  \n"
   ]
  }
 ],
 "metadata": {
  "kaggle": {
   "accelerator": "none",
   "dataSources": [
    {
     "datasetId": 2799910,
     "sourceId": 4832081,
     "sourceType": "datasetVersion"
    }
   ],
   "dockerImageVersionId": 31089,
   "isGpuEnabled": false,
   "isInternetEnabled": true,
   "language": "python",
   "sourceType": "notebook"
  },
  "kernelspec": {
   "display_name": "Python 3",
   "language": "python",
   "name": "python3"
  },
  "language_info": {
   "codemirror_mode": {
    "name": "ipython",
    "version": 3
   },
   "file_extension": ".py",
   "mimetype": "text/x-python",
   "name": "python",
   "nbconvert_exporter": "python",
   "pygments_lexer": "ipython3",
   "version": "3.11.13"
  },
  "papermill": {
   "default_parameters": {},
   "duration": 10.588823,
   "end_time": "2025-08-27T18:23:32.230429",
   "environment_variables": {},
   "exception": null,
   "input_path": "__notebook__.ipynb",
   "output_path": "__notebook__.ipynb",
   "parameters": {},
   "start_time": "2025-08-27T18:23:21.641606",
   "version": "2.6.0"
  }
 },
 "nbformat": 4,
 "nbformat_minor": 5
}
